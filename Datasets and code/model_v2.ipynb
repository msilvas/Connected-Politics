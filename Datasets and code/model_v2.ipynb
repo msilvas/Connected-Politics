{
 "cells": [
  {
   "cell_type": "code",
   "execution_count": 1,
   "metadata": {},
   "outputs": [],
   "source": [
    "import pandas as pd\n",
    "import numpy as np\n",
    "import matplotlib.pyplot as plt\n",
    "import seaborn as sns"
   ]
  },
  {
   "cell_type": "code",
   "execution_count": 2,
   "metadata": {},
   "outputs": [],
   "source": [
    "train1 = pd.read_csv(\"osdg_train_data_0424.csv\", sep='\\t', engine=\"python\")\n",
    "train2 = pd.read_csv(\"synt_sample.csv\", engine=\"python\")\n"
   ]
  },
  {
   "cell_type": "code",
   "execution_count": 3,
   "metadata": {},
   "outputs": [],
   "source": [
    "# Selecting sentences with expert agreement abover 0.5\n",
    "train1 = train1[train1[\"agreement\"]>0.5]"
   ]
  },
  {
   "cell_type": "code",
   "execution_count": 4,
   "metadata": {},
   "outputs": [
    {
     "name": "stderr",
     "output_type": "stream",
     "text": [
      "/var/folders/dm/4x9yw1317l3320_zc7brjgh00000gn/T/ipykernel_13585/4188799172.py:2: DeprecationWarning: DataFrameGroupBy.apply operated on the grouping columns. This behavior is deprecated, and in a future version of pandas the grouping columns will be excluded from the operation. Either pass `include_groups=False` to exclude the groupings or explicitly select the grouping columns after groupby to silence this warning.\n",
      "  train2 = train2.groupby('category', group_keys=False).apply(\n"
     ]
    }
   ],
   "source": [
    "# Creating a sample with 3000 sentences per category, keeping the same distribution as the original dataset\n",
    "train2 = train2.groupby('category', group_keys=False).apply(\n",
    "        lambda x: x.sample(frac=3500/len(train2))).reset_index(drop=True)\n"
   ]
  },
  {
   "cell_type": "code",
   "execution_count": 5,
   "metadata": {},
   "outputs": [
    {
     "name": "stdout",
     "output_type": "stream",
     "text": [
      "         id                                           sentence  \\\n",
      "0      9679  Nike released a new collection inspired by vin...   \n",
      "1      4049  oversized blazers is making a comeback this se...   \n",
      "2     11962  Gucci released a new collection inspired by vi...   \n",
      "3      2505  oversized blazers is making a comeback this se...   \n",
      "4       917  Wearing leather jacket is a timeless fashion c...   \n",
      "...     ...                                                ...   \n",
      "3496  16002  Paris is a must-visit destination for food lov...   \n",
      "3497  14799  Many travelers prefer boat for scenic road trips.   \n",
      "3498  13718  Tourists are drawn to Great Wall of China for ...   \n",
      "3499  11836  Many travelers prefer boat for scenic road trips.   \n",
      "3500   5561  Tourists are drawn to Great Wall of China for ...   \n",
      "\n",
      "                 category                           text_id  \n",
      "0     Fashion & Lifestyle  2c3a0cf5a380e1ca9413faf23eb39224  \n",
      "1     Fashion & Lifestyle  9cbe0d3ae09e350e6741590edc85db1d  \n",
      "2     Fashion & Lifestyle  115b200cd1b88c48f24bf8e81a29269a  \n",
      "3     Fashion & Lifestyle  aafab39ba2dcb23ac5606cea9c54c67b  \n",
      "4     Fashion & Lifestyle  195badcf76b0b14ed6545cc11269b79f  \n",
      "...                   ...                               ...  \n",
      "3496               Travel  c8fc943979e7e072551ae1fad600354c  \n",
      "3497               Travel  594677733af370cc629b1a57c705d4f6  \n",
      "3498               Travel  f1960cbe7cf2cda01f41432a1fc36bad  \n",
      "3499               Travel  903091bbbb451426f533a47d4e184245  \n",
      "3500               Travel  2255c08e9f110b1c54f03cf243132cc5  \n",
      "\n",
      "[3501 rows x 4 columns]\n"
     ]
    }
   ],
   "source": [
    "# Ensure no duplicates between train1 and train2\n",
    "existing_text_ids = set(train1['text_id'])\n",
    "\n",
    "# Generate unique text_ids for train2\n",
    "unique_text_ids = set()\n",
    "while len(unique_text_ids) < len(train2):\n",
    "    new_ids = np.random.choice(train1['text_id'], size=len(train2) - len(unique_text_ids), replace=False)\n",
    "    unique_text_ids.update(new_ids)\n",
    "\n",
    "# Assign the unique text_ids to train2\n",
    "train2_text_ids = list(unique_text_ids)[:len(train2)]\n",
    "train2 = train2.reset_index(drop=True)\n",
    "train2['text_id'] = train2_text_ids\n",
    "\n",
    "print(train2)\n"
   ]
  },
  {
   "cell_type": "code",
   "execution_count": 6,
   "metadata": {},
   "outputs": [],
   "source": [
    "# Rename sentence as text\n",
    "train2.rename(columns={'sentence': 'text'}, inplace=True)"
   ]
  },
  {
   "cell_type": "code",
   "execution_count": 7,
   "metadata": {},
   "outputs": [],
   "source": [
    "# Creating new column with sdg 0 value\n",
    "train2[\"sdg\"] = 0"
   ]
  },
  {
   "cell_type": "code",
   "execution_count": 8,
   "metadata": {},
   "outputs": [],
   "source": [
    "# Concatenating the datasets\n",
    "train = pd.concat([train1[[\"text_id\", \"text\", \"sdg\"]], train2[[\"text_id\", \"text\", \"sdg\"]]], ignore_index=True)"
   ]
  },
  {
   "cell_type": "code",
   "execution_count": 9,
   "metadata": {},
   "outputs": [
    {
     "data": {
      "image/png": "[encoded data removed]",
      "text/plain": [
       "<Figure size 640x480 with 1 Axes>"
      ]
     },
     "metadata": {},
     "output_type": "display_data"
    }
   ],
   "source": [
    "# Making sure the proportion of sdg 0 is not too high\n",
    "train[\"sdg\"].value_counts(normalize=True).plot(kind='bar')\n",
    "\n",
    "# Shuffle the data to avoid order bias\n",
    "train = train.sample(frac=1, random_state=139390).reset_index(drop=True)\n"
   ]
  },
  {
   "cell_type": "code",
   "execution_count": 10,
   "metadata": {},
   "outputs": [],
   "source": [
    "# Spliting data between train, validation and test\n",
    "\n",
    "from sklearn.model_selection import train_test_split\n",
    "\n",
    "# Split into train (80%), temp (20%)\n",
    "train_texts, temp_texts, train_labels, temp_labels = train_test_split(\n",
    "    train[\"text\"], train[\"sdg\"], \n",
    "    test_size=0.2, \n",
    "    stratify=train[\"sdg\"],  # Preserve class balance\n",
    "    random_state=139390\n",
    ")\n",
    "\n",
    "# Split temp into val (10%) and test (10%)\n",
    "val_texts, test_texts, val_labels, test_labels = train_test_split(\n",
    "    temp_texts, temp_labels, \n",
    "    test_size=0.5, \n",
    "    stratify=temp_labels,\n",
    "    random_state=42\n",
    ")"
   ]
  },
  {
   "cell_type": "code",
   "execution_count": 11,
   "metadata": {},
   "outputs": [],
   "source": [
    "# Using the same tokenizer as the model\n",
    "\n",
    "from transformers import AutoTokenizer\n",
    "\n",
    "# Load tokenizer\n",
    "tokenizer = AutoTokenizer.from_pretrained(\"sadickam/sdgBERT\")\n",
    "\n",
    "# Tokenize a batch of texts\n",
    "def tokenize(batch_texts):\n",
    "    return tokenizer(\n",
    "        batch_texts,\n",
    "        padding=\"max_length\",    # Pad to max_length\n",
    "        truncation=True,         # Truncate to max_length\n",
    "        max_length=512,          # Match the original model's max length\n",
    "        return_tensors=\"pt\",     # Return PyTorch tensors\n",
    "    )\n",
    "\n",
    "# Example tokenization for training texts\n",
    "tokenized_train = tokenize(train_texts.tolist())"
   ]
  },
  {
   "cell_type": "code",
   "execution_count": 12,
   "metadata": {},
   "outputs": [],
   "source": [
    "#Create the pytorch dataset\n",
    "\n",
    "from torch.utils.data import Dataset, DataLoader\n",
    "import torch\n",
    "\n",
    "class SDGDataset(Dataset):\n",
    "    def __init__(self, texts, labels):\n",
    "        self.texts = texts\n",
    "        self.labels = labels\n",
    "        self.encodings = tokenize(texts.tolist())  # Tokenize all texts upfront\n",
    "\n",
    "    def __getitem__(self, idx):\n",
    "        return {\n",
    "            \"input_ids\": self.encodings[\"input_ids\"][idx],\n",
    "            \"attention_mask\": self.encodings[\"attention_mask\"][idx],\n",
    "            \"labels\": torch.tensor(self.labels.iloc[idx], dtype=torch.long)\n",
    "        }\n",
    "\n",
    "    def __len__(self):\n",
    "        return len(self.texts)\n",
    "\n",
    "# Create datasets\n",
    "train_dataset = SDGDataset(train_texts, train_labels)\n",
    "val_dataset = SDGDataset(val_texts, val_labels)\n",
    "test_dataset = SDGDataset(test_texts, test_labels)"
   ]
  },
  {
   "cell_type": "code",
   "execution_count": 13,
   "metadata": {},
   "outputs": [],
   "source": [
    "batch_size = 16  # Adjust based on GPU memory\n",
    "\n",
    "train_loader = DataLoader(\n",
    "    train_dataset,\n",
    "    batch_size=batch_size,\n",
    "    shuffle=True,    # Shuffle for training\n",
    "    num_workers=4    # Parallelize data loading\n",
    ")\n",
    "\n",
    "val_loader = DataLoader(\n",
    "    val_dataset,\n",
    "    batch_size=batch_size,\n",
    "    shuffle=False,   # No need to shuffle validation\n",
    "    num_workers=4\n",
    ")\n",
    "\n",
    "test_loader = DataLoader(\n",
    "    test_dataset,\n",
    "    batch_size=batch_size,\n",
    "    shuffle=False,\n",
    "    num_workers=4\n",
    ")"
   ]
  },
  {
   "cell_type": "code",
   "execution_count": 14,
   "metadata": {},
   "outputs": [
    {
     "name": "stderr",
     "output_type": "stream",
     "text": [
      "Some weights of BertForSequenceClassification were not initialized from the model checkpoint at sadickam/sdgBERT and are newly initialized because the shapes did not match:\n",
      "- classifier.bias: found shape torch.Size([16]) in the checkpoint and torch.Size([17]) in the model instantiated\n",
      "- classifier.weight: found shape torch.Size([16, 768]) in the checkpoint and torch.Size([17, 768]) in the model instantiated\n",
      "You should probably TRAIN this model on a down-stream task to be able to use it for predictions and inference.\n"
     ]
    },
    {
     "name": "stdout",
     "output_type": "stream",
     "text": [
      "Linear(in_features=768, out_features=17, bias=True)\n"
     ]
    }
   ],
   "source": [
    "from transformers import AutoModelForSequenceClassification\n",
    "\n",
    "model = AutoModelForSequenceClassification.from_pretrained(\n",
    "    \"sadickam/sdgBERT\",\n",
    "    num_labels=17,  # 16 SDGs + residual\n",
    "    ignore_mismatched_sizes=True  # Required to resize the classifier layer\n",
    ")\n",
    "\n",
    "# Verify model architecture\n",
    "print(model.classifier)  # Should show `out_features=17`"
   ]
  },
  {
   "cell_type": "code",
   "execution_count": 15,
   "metadata": {},
   "outputs": [],
   "source": [
    "import numpy as np\n",
    "from sklearn.utils.class_weight import compute_class_weight\n",
    "\n",
    "# Compute class weights\n",
    "class_weights = compute_class_weight(\n",
    "    \"balanced\",\n",
    "    classes=np.unique(train_labels),\n",
    "    y=train_labels\n",
    ")\n",
    "\n",
    "# Convert to PyTorch tensor\n",
    "class_weights = torch.tensor(class_weights, dtype=torch.float32)\n",
    "\n",
    "# Move to GPU if available\n",
    "device = torch.device(\"cuda\" if torch.cuda.is_available() else \"cpu\")\n",
    "class_weights = class_weights.to(device)\n",
    "model = model.to(device)"
   ]
  },
  {
   "cell_type": "code",
   "execution_count": 16,
   "metadata": {},
   "outputs": [],
   "source": [
    "#pip install tf-keras\n",
    "#%pip install 'accelerate>=0.26.0'\n"
   ]
  },
  {
   "cell_type": "code",
   "execution_count": 17,
   "metadata": {},
   "outputs": [
    {
     "name": "stderr",
     "output_type": "stream",
     "text": [
      "/Users/mass/.pyenv/versions/3.10.11/lib/python3.10/site-packages/transformers/training_args.py:1575: FutureWarning: `evaluation_strategy` is deprecated and will be removed in version 4.46 of 🤗 Transformers. Use `eval_strategy` instead\n",
      "  warnings.warn(\n"
     ]
    }
   ],
   "source": [
    "from transformers import TrainingArguments, Trainer\n",
    "\n",
    "training_args = TrainingArguments(\n",
    "    output_dir=\"./results\",          # Directory to save checkpoints\n",
    "    learning_rate=3e-5,              # Slightly higher learning rate for faster convergence\n",
    "    per_device_train_batch_size=16,  # Reduce batch size to fit memory\n",
    "    per_device_eval_batch_size=16,   # Reduce batch size to fit memory\n",
    "    num_train_epochs=3,              # Reduce number of epochs\n",
    "    weight_decay=0.01,               # Regularization\n",
    "    evaluation_strategy=\"steps\",     # Evaluate every few steps instead of every epoch\n",
    "    save_strategy=\"steps\",           # Save a checkpoint every few steps\n",
    "    logging_dir=\"./logs\",            # TensorBoard logs\n",
    "    load_best_model_at_end=True,     # Keep the best model\n",
    "    metric_for_best_model=\"eval_loss\",\n",
    "    save_steps=1000,                 # Save checkpoint every 1000 steps\n",
    "    eval_steps=1000,                 # Evaluate every 1000 steps\n",
    "    logging_steps=100,               # Log every 100 steps\n",
    ")"
   ]
  },
  {
   "cell_type": "code",
   "execution_count": 18,
   "metadata": {},
   "outputs": [],
   "source": [
    "class CustomTrainer(Trainer):\n",
    "    def compute_loss(self, model, inputs, return_outputs=False, **kwargs):\n",
    "        # Extract labels\n",
    "        labels = inputs.pop(\"labels\")\n",
    "        \n",
    "        # Forward pass\n",
    "        outputs = model(**inputs)\n",
    "        logits = outputs.logits\n",
    "        \n",
    "        # Compute loss with class weights\n",
    "        loss_fct = torch.nn.CrossEntropyLoss(weight=class_weights.to(model.device))\n",
    "        loss = loss_fct(logits.view(-1, 17), labels.view(-1))\n",
    "        \n",
    "        return (loss, outputs) if return_outputs else loss\n",
    "    \n",
    "\n",
    "# Initialize Trainer with fixed compute_loss\n",
    "trainer = CustomTrainer(\n",
    "    model=model,\n",
    "    args=training_args,\n",
    "    train_dataset=train_dataset,\n",
    "    eval_dataset=val_dataset,\n",
    ")"
   ]
  },
  {
   "cell_type": "code",
   "execution_count": null,
   "metadata": {},
   "outputs": [
    {
     "data": {
      "text/html": [
       "\n",
       "    <div>\n",
       "      \n",
       "      <progress value='765' max='4836' style='width:300px; height:20px; vertical-align: middle;'></progress>\n",
       "      [ 765/4836 7:09:41 < 38:12:40, 0.03 it/s, Epoch 0.47/3]\n",
       "    </div>\n",
       "    <table border=\"1\" class=\"dataframe\">\n",
       "  <thead>\n",
       " <tr style=\"text-align: left;\">\n",
       "      <th>Step</th>\n",
       "      <th>Training Loss</th>\n",
       "      <th>Validation Loss</th>\n",
       "    </tr>\n",
       "  </thead>\n",
       "  <tbody>\n",
       "  </tbody>\n",
       "</table><p>"
      ],
      "text/plain": [
       "<IPython.core.display.HTML object>"
      ]
     },
     "metadata": {},
     "output_type": "display_data"
    }
   ],
   "source": [
    "import os\n",
    "\n",
    "# Train the model\n",
    "trainer.train()\n",
    "\n",
    "# Save the final model\n",
    "trainer.save_model(\"sdgBERT_with_residual_final\")"
   ]
  }
 ],
 "metadata": {
  "kernelspec": {
   "display_name": "Python 3 (ipykernel)",
   "language": "python",
   "name": "python3"
  },
  "language_info": {
   "codemirror_mode": {
    "name": "ipython",
    "version": 3
   },
   "file_extension": ".py",
   "mimetype": "text/x-python",
   "name": "python",
   "nbconvert_exporter": "python",
   "pygments_lexer": "ipython3",
   "version": "3.10.11"
  }
 },
 "nbformat": 4,
 "nbformat_minor": 4
}
