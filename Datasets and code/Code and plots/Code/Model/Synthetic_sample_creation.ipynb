{
 "cells": [
  {
   "cell_type": "code",
   "execution_count": 1,
   "id": "218cb13d-2713-4cb6-b9ef-348aa4cf0436",
   "metadata": {},
   "outputs": [],
   "source": [
    "import pandas as pd\n",
    "import random\n",
    "import textwrap"
   ]
  },
  {
   "cell_type": "code",
   "execution_count": 2,
   "id": "7ed52614-a81c-43fe-9f70-a8ea0c0c78f8",
   "metadata": {},
   "outputs": [],
   "source": [
    "# Define categories and sentence templates\n",
    "categories = {\n",
    "    \"Urban Life\": [\n",
    "        \"As {city} continues to expand, debates arise over how to balance rapid urbanization with sustainability. The recent rise in {transportation} usage has reshaped how people move, yet issues like {problem} remain unresolved. Experts argue that innovative city planning must incorporate {urban_solution} to create a livable future.\",\n",
    "        \"Public transit systems in cities like {city} have undergone rapid changes due to {factor}. While ridership increases, concerns over {issue} persist. Planners suggest that future urban mobility should integrate {solution} to address the challenges posed by {trend}.\"\n",
    "    ],\n",
    "    \"Cultural Trends\": [\n",
    "        \"Generational shifts are transforming societal expectations in unexpected ways. {generation} is redefining {social_aspect}, moving away from traditional norms and embracing {modern_trend}. This cultural evolution is particularly evident in {area}, where trends such as {example} reflect deeper societal changes.\",\n",
    "        \"Social movements like {movement} have significantly shaped public discourse, influencing {sector}. The rise of {phenomenon} has fueled debates on {issue}, leading to new cultural narratives that redefine {aspect} in contemporary society.\"\n",
    "    ],\n",
    "    \"Education\": [\n",
    "        \"With new learning technologies emerging, educators are adapting curricula to meet the demands of {industry}. Research suggests that {teaching_method} enhances student engagement, yet critics argue that traditional approaches still hold value. The ongoing debate over {education_topic} highlights the evolving nature of academic institutions.\",\n",
    "        \"The integration of {technology} in classrooms has transformed the way students interact with course material. While some argue that {method} fosters greater independence, others warn of potential drawbacks, including {concern}. Future policies must strike a balance between {factor} and {factor}.\"\n",
    "    ],\n",
    "    \"Work & Labor Trends\": [\n",
    "        \"The increasing shift toward remote work is reshaping corporate structures. Companies in {sector} have adopted {work_model} to retain talent, yet concerns about {challenge} persist. Some experts argue that hybrid work environments could be the key to addressing {problem}, ensuring both productivity and employee satisfaction.\",\n",
    "        \"Automation in {industry} has sparked debates about job displacement. While some fear widespread layoffs, others believe that {trend} will create opportunities in {new_field}. The challenge lies in equipping the workforce with {skills} to remain competitive in a rapidly evolving labor market.\"\n",
    "    ],\n",
    "    \"Consumer Behavior\": [\n",
    "        \"The rise of digital shopping has changed consumer expectations. Studies show that {demographic} prioritize {factor} when making purchasing decisions. With companies focusing on {strategy}, traditional retail faces pressure to innovate and align with evolving digital habits.\",\n",
    "        \"Subscription-based models have surged in popularity across industries such as {industry}. Consumers increasingly value {factor} over ownership, driving companies to rethink their {business_model}. This shift reflects deeper changes in {consumer_trend}.\"\n",
    "    ],\n",
    "    \"Technology & Digital Life\": [\n",
    "        \"The rapid evolution of social media platforms has changed the way people interact with information. Concerns about {issue} continue to grow, especially as algorithms increasingly influence {aspect}. Experts suggest that transparency and user autonomy could help mitigate the negative effects of {technology_trend}.\",\n",
    "        \"AI ethics debates have intensified as companies implement {technology} in decision-making processes. While advocates argue that {benefit} could revolutionize {industry}, critics warn of {risk}. Policymakers must address these ethical dilemmas to ensure responsible AI deployment.\"\n",
    "    ],\n",
    "    \"Journalism\": [\n",
    "        \"News consumption patterns are shifting dramatically as audiences turn to {platform} for information. While this trend has increased accessibility, concerns over {challenge} remain. Media outlets must adapt their strategies to maintain credibility while keeping up with changing digital habits.\",\n",
    "        \"The decline of traditional journalism is often attributed to {factor}. As reporting moves online, the challenge lies in balancing {aspect} with {aspect}, ensuring that journalistic integrity is preserved in an era of rapid information dissemination.\"\n",
    "    ]\n",
    "}"
   ]
  },
  {
   "cell_type": "code",
   "execution_count": 3,
   "id": "8a0213e4-c1d1-44cb-9225-e6c5c2d996d9",
   "metadata": {},
   "outputs": [],
   "source": [
    "# Sample values for placeholders\n",
    "sample_values = {\n",
    "    \"city\": [\"New York\", \"London\", \"Tokyo\", \"Mexico City\", \"Berlin\"],\n",
    "    \"transportation\": [\"subways\", \"electric buses\", \"bike-sharing systems\"],\n",
    "    \"problem\": [\"overcrowding\", \"lack of accessibility\", \"high costs\"],\n",
    "    \"urban_solution\": [\"smart city technologies\", \"sustainable infrastructure\"],\n",
    "    \"factor\": [\"environmental concerns\", \"economic shifts\", \"technological advancements\"],\n",
    "    \"issue\": [\"data privacy\", \"content moderation\", \"digital addiction\"],\n",
    "    \"solution\": [\"public-private partnerships\", \"automated transit solutions\"],\n",
    "    \"trend\": [\"urban migration\", \"remote work culture\"],\n",
    "    \"generation\": [\"Gen Z\", \"Millennials\", \"Boomers\"],\n",
    "    \"social_aspect\": [\"family structures\", \"work ethics\"],\n",
    "    \"modern_trend\": [\"gig economy jobs\", \"minimalist lifestyles\"],\n",
    "    \"area\": [\"fashion\", \"media\", \"education\"],\n",
    "    \"example\": [\"sustainable fashion\", \"short-form video content\"],\n",
    "    \"movement\": [\"climate activism\", \"labor unions\"],\n",
    "    \"sector\": [\"corporate policies\", \"education\", \"public policy\"],\n",
    "    \"phenomenon\": [\"cancel culture\", \"online activism\"],\n",
    "    \"aspect\": [\"identity politics\", \"work-life balance\"],\n",
    "    \"industry\": [\"tech\", \"finance\", \"manufacturing\"],\n",
    "    \"teaching_method\": [\"flipped classrooms\", \"AI-powered tutoring\"],\n",
    "    \"education_topic\": [\"standardized testing\", \"critical thinking in education\"],\n",
    "    \"technology\": [\"AI-driven learning platforms\", \"virtual reality tools\"],\n",
    "    \"method\": [\"self-paced online courses\", \"blended learning\"],\n",
    "    \"concern\": [\"lack of personal interaction\", \"over-reliance on automation\"],\n",
    "    \"work_model\": [\"hybrid schedules\", \"fully remote teams\"],\n",
    "    \"challenge\": [\"employee burnout\", \"team cohesion\"],\n",
    "    \"problem\": [\"collaboration\", \"communication barriers\"],\n",
    "    \"trend\": [\"machine learning automation\", \"data-driven hiring\"],\n",
    "    \"new_field\": [\"cybersecurity\", \"green energy\"],\n",
    "    \"skills\": [\"AI literacy\", \"digital marketing expertise\"],\n",
    "    \"demographic\": [\"young professionals\", \"digital natives\"],\n",
    "    \"factor\": [\"sustainability\", \"affordability\"],\n",
    "    \"strategy\": [\"personalized recommendations\", \"AI-driven marketing\"],\n",
    "    \"platform\": [\"social media\", \"mobile apps\"],\n",
    "    \"challenge\": [\"misinformation\", \"algorithmic bias\"],\n",
    "    \"technology_trend\": [\"AI-generated content\", \"deepfake journalism\"],\n",
    "    \"technology\": [\"predictive analytics\", \"automated news writing\"],\n",
    "    \"benefit\": [\"efficiency\", \"cost reduction\"],\n",
    "    \"risk\": [\"job displacement\", \"ethical dilemmas\"],\n",
    "    \"business_model\": [\"pricing structures\", \"customer engagement strategies\"]\n",
    "}"
   ]
  },
  {
   "cell_type": "code",
   "execution_count": 4,
   "id": "4ec6ba5c-4d23-4d59-a6ad-ff7c305da36a",
   "metadata": {},
   "outputs": [],
   "source": [
    "# Generate sentences\n",
    "num_sentences = 5000\n",
    "data = []\n",
    "\n",
    "for i in range(num_sentences):\n",
    "    category = random.choice(list(categories.keys()))\n",
    "    sentence_template = random.choice(categories[category])\n",
    "\n",
    "    for key in sample_values.keys():\n",
    "        if \"{\" + key + \"}\" in sentence_template:\n",
    "            sentence_template = sentence_template.replace(\"{\" + key + \"}\", random.choice(sample_values[key]))\n",
    "    \n",
    "    # Ensure sentence is within 400-700 character range\n",
    "    sentence = textwrap.shorten(sentence_template, width=random.randint(400, 700), placeholder=\"...\")\n",
    "    \n",
    "    data.append([i + 1, sentence, category])"
   ]
  },
  {
   "cell_type": "code",
   "execution_count": 5,
   "id": "624679ba-ea3d-47d2-926c-19b3f0d91082",
   "metadata": {},
   "outputs": [
    {
     "name": "stdout",
     "output_type": "stream",
     "text": [
      "Dataset created with 5000 sentences. Saved as 'synthetic_societal_sentences.csv'.\n"
     ]
    }
   ],
   "source": [
    "# Create DataFrame\n",
    "df = pd.DataFrame(data, columns=[\"id\", \"sentence\", \"category\"])\n",
    "\n",
    "# Save to CSV\n",
    "file_name = \"synthetic_societal_sentences.csv\"\n",
    "df.to_csv(file_name, index=False)\n",
    "\n",
    "print(f\"Dataset created with {len(df)} sentences. Saved as '{file_name}'.\")\n"
   ]
  },
  {
   "cell_type": "code",
   "execution_count": null,
   "id": "fccbe950-b1af-4c28-8f4d-02c370cee159",
   "metadata": {},
   "outputs": [],
   "source": []
  }
 ],
 "metadata": {
  "kernelspec": {
   "display_name": "Python 3 (ipykernel)",
   "language": "python",
   "name": "python3"
  },
  "language_info": {
   "codemirror_mode": {
    "name": "ipython",
    "version": 3
   },
   "file_extension": ".py",
   "mimetype": "text/x-python",
   "name": "python",
   "nbconvert_exporter": "python",
   "pygments_lexer": "ipython3",
   "version": "3.10.11"
  }
 },
 "nbformat": 4,
 "nbformat_minor": 5
}
